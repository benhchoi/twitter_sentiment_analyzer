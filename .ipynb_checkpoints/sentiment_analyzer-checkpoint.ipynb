{
 "cells": [
  {
   "cell_type": "code",
   "execution_count": 18,
   "metadata": {},
   "outputs": [],
   "source": [
    "# get all of the data\n",
    "# and format it in a workable way\n",
    "\n",
    "import util\n",
    "import os\n",
    "\n",
    "data = util.read_csv(os.path.join('.', 'tweets.csv'))\n",
    "parsed_data = util.parse(data)\n",
    "polar_neutral_data = util.polar_neutral_split(parsed_data)\n",
    "pos_neg_data = util.pos_neg_split(parsed_data)\n",
    "\n",
    "all_X, all_y = util.generate_x_y(parsed_data)\n",
    "polar_neutral_X, polar_neutral_y = util.generate_x_y(polar_neutral_data)\n",
    "pos_neg_X, pos_neg_y = util.generate_x_y(pos_neg_data)"
   ]
  },
  {
   "cell_type": "code",
   "execution_count": 3,
   "metadata": {},
   "outputs": [
    {
     "name": "stdout",
     "output_type": "stream",
     "text": [
      "textblob accuracy: 0.333538\n"
     ]
    }
   ],
   "source": [
    "# find baseline accuracy based on existing modules\n",
    "# more specifically textblob and vaderSentiment\n",
    "# start with textblob\n",
    "\n",
    "from textblob import TextBlob\n",
    "\n",
    "textblob_results = [TextBlob(x).sentiment for x in all_X]\n",
    "textblob_y = []\n",
    "for result in textblob_results:\n",
    "    if result.polarity < -1/3:\n",
    "        textblob_y.append(-1)\n",
    "    elif result.polarity < 1/3:\n",
    "        textblob_y.append(0)\n",
    "    else:\n",
    "        textblob_y.append(1)\n",
    "\n",
    "textblob_acc = util.get_accuracy(all_y, textblob_y)\n",
    "print('textblob accuracy: %f' % textblob_acc)"
   ]
  },
  {
   "cell_type": "code",
   "execution_count": 4,
   "metadata": {},
   "outputs": [
    {
     "name": "stdout",
     "output_type": "stream",
     "text": [
      "vaderSentiment accuracy: 0.542828\n"
     ]
    }
   ],
   "source": [
    "# now move on to vader\n",
    "\n",
    "from vaderSentiment.vaderSentiment import SentimentIntensityAnalyzer\n",
    "\n",
    "analyzer = SentimentIntensityAnalyzer()\n",
    "\n",
    "vader_results = [analyzer.polarity_scores(x) for x in all_X]\n",
    "vader_y = []\n",
    "for result in vader_results:\n",
    "    if result['compound'] <= -0.05:\n",
    "        vader_y.append(-1)\n",
    "    elif result['compound'] < 0.05:\n",
    "        vader_y.append(0)\n",
    "    else:\n",
    "        vader_y.append(1)\n",
    "\n",
    "vader_acc = util.get_accuracy(all_y, vader_y)\n",
    "print('vaderSentiment accuracy: %f' % vader_acc)"
   ]
  },
  {
   "cell_type": "code",
   "execution_count": 19,
   "metadata": {},
   "outputs": [
    {
     "name": "stdout",
     "output_type": "stream",
     "text": [
      "Training accuracy: 0.795128, testing accuracy: 0.789617\n"
     ]
    }
   ],
   "source": [
    "# now let's create our own sentiment analyzer\n",
    "# first, try it on the whole dataset\n",
    "\n",
    "classifier = util.generate_classifier()\n",
    "\n",
    "train_acc, test_acc = util.cross_validate(10, classifier, all_X, all_y)\n",
    "    \n",
    "print('all_x train acc: %f, all_x test acc: %f' % (train_acc, test_acc))"
   ]
  },
  {
   "cell_type": "code",
   "execution_count": null,
   "metadata": {},
   "outputs": [],
   "source": [
    "# second, focus on just the polar-neutral classification\n",
    "\n",
    "train_acc, test_acc = util.cross_validate(10, classifier, polar_neutral_X, polar_neutral_y)\n",
    "\n",
    "print('polar-neutral train acc: %f, polar-neutral test acc: %f' % (train_acc, test_acc))"
   ]
  },
  {
   "cell_type": "code",
   "execution_count": null,
   "metadata": {},
   "outputs": [],
   "source": [
    "# third, focus on just the pos-neg classification\n",
    "\n",
    "train_acc, test_acc = util.cross_validate(10, classifier, pos_neg_X, pos_neg_y)\n",
    "\n",
    "print('pos-neg train acc: %f, pos-neg test acc: %f' % (train_acc, test_acc))"
   ]
  }
 ],
 "metadata": {
  "kernelspec": {
   "display_name": "Python 3",
   "language": "python",
   "name": "python3"
  },
  "language_info": {
   "codemirror_mode": {
    "name": "ipython",
    "version": 3
   },
   "file_extension": ".py",
   "mimetype": "text/x-python",
   "name": "python",
   "nbconvert_exporter": "python",
   "pygments_lexer": "ipython3",
   "version": "3.6.8"
  }
 },
 "nbformat": 4,
 "nbformat_minor": 2
}
